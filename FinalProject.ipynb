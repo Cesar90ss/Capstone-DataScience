{
 "cells": [
  {
   "cell_type": "markdown",
   "metadata": {},
   "source": [
    "<h1 align=center><font size = 5>Final Project</font></h1>"
   ]
  },
  {
   "cell_type": "markdown",
   "metadata": {},
   "source": [
    "## Idea:\n",
    "-I have an Italian Investor who wants to open an Italian restaurant in New York and he is looking for the best neighborhood for his restaurant<br/>\n",
    "-The idea is to find a neighborhood who doesn't have an  Italian Restaurant and is also quite central.<br/>\n",
    "-His ideal neighborhood would be one which is central , doesn't have any Italian restaurant accessible to everyone and the number of restaurants would be less than 5<br/>"
   ]
  },
  {
   "cell_type": "markdown",
   "metadata": {},
   "source": [
    "## Data:\n",
    "-I have access to New York data which has the different neighborhoods and their longitude and latitude.<br/>\n",
    "-First I will use this data with the FourSquare API to try to find the neighborhoods with Zero Italian Restaurants<br/>\n",
    "-Then I will create a folium map of it and show it to the investor.<br/>\n"
   ]
  },
  {
   "cell_type": "markdown",
   "metadata": {},
   "source": [
    "##  First Step\n",
    "-Importing all necessary libraries <br/>"
   ]
  },
  {
   "cell_type": "code",
   "execution_count": 15,
   "metadata": {},
   "outputs": [
    {
     "name": "stdout",
     "output_type": "stream",
     "text": [
      "Libraries imported.\n"
     ]
    }
   ],
   "source": [
    " #Importing necessary Libraries\n",
    "    \n",
    "import numpy as np # library to handle data in a vectorized manner\n",
    "\n",
    "import pandas as pd # library for data analsysis\n",
    "pd.set_option('display.max_columns', None)\n",
    "pd.set_option('display.max_rows', None)\n",
    "\n",
    "import json # library to handle JSON files\n",
    "\n",
    "#!conda install -c conda-forge geopy --yes # uncomment this line if you haven't completed the Foursquare API lab\n",
    "from geopy.geocoders import Nominatim # convert an address into latitude and longitude values\n",
    "\n",
    "import requests # library to handle requests\n",
    "from pandas.io.json import json_normalize # tranform JSON file into a pandas dataframe\n",
    "\n",
    "# Matplotlib and associated plotting modules\n",
    "import matplotlib.cm as cm\n",
    "import matplotlib.colors as colors\n",
    "\n",
    "# import k-means from clustering stage\n",
    "from sklearn.cluster import KMeans\n",
    "\n",
    "#!conda install -c conda-forge folium=0.5.0 --yes # uncomment this line if you haven't completed the Foursquare API lab\n",
    "import folium # map rendering library\n",
    "\n",
    "print('Libraries imported.')"
   ]
  },
  {
   "cell_type": "markdown",
   "metadata": {},
   "source": [
    "##  Second Step\n",
    "-Downloading and cleaing the data <br/>"
   ]
  },
  {
   "cell_type": "code",
   "execution_count": 16,
   "metadata": {},
   "outputs": [
    {
     "name": "stdout",
     "output_type": "stream",
     "text": [
      "Data downloaded!\n"
     ]
    }
   ],
   "source": [
    "#Get the Data\n",
    "!wget -q -O 'newyork_data.json' https://cocl.us/new_york_dataset\n",
    "print('Data downloaded!')\n",
    "    \n",
    "with open('newyork_data.json') as json_data:\n",
    "    newyork_data = json.load(json_data)"
   ]
  },
  {
   "cell_type": "code",
   "execution_count": 17,
   "metadata": {},
   "outputs": [
    {
     "data": {
      "text/html": [
       "<div>\n",
       "<style scoped>\n",
       "    .dataframe tbody tr th:only-of-type {\n",
       "        vertical-align: middle;\n",
       "    }\n",
       "\n",
       "    .dataframe tbody tr th {\n",
       "        vertical-align: top;\n",
       "    }\n",
       "\n",
       "    .dataframe thead th {\n",
       "        text-align: right;\n",
       "    }\n",
       "</style>\n",
       "<table border=\"1\" class=\"dataframe\">\n",
       "  <thead>\n",
       "    <tr style=\"text-align: right;\">\n",
       "      <th></th>\n",
       "      <th>Borough</th>\n",
       "      <th>Neighborhood</th>\n",
       "      <th>Latitude</th>\n",
       "      <th>Longitude</th>\n",
       "    </tr>\n",
       "  </thead>\n",
       "  <tbody>\n",
       "  </tbody>\n",
       "</table>\n",
       "</div>"
      ],
      "text/plain": [
       "Empty DataFrame\n",
       "Columns: [Borough, Neighborhood, Latitude, Longitude]\n",
       "Index: []"
      ]
     },
     "execution_count": 17,
     "metadata": {},
     "output_type": "execute_result"
    }
   ],
   "source": [
    "#Cleaning the data\n",
    "neighborhoods_data = newyork_data['features']\n",
    "\n",
    "# define the dataframe columns\n",
    "column_names = ['Borough', 'Neighborhood', 'Latitude', 'Longitude'] \n",
    "\n",
    "# instantiate the dataframe\n",
    "neighborhoods = pd.DataFrame(columns=column_names)\n",
    "neighborhoods"
   ]
  },
  {
   "cell_type": "code",
   "execution_count": 19,
   "metadata": {},
   "outputs": [
    {
     "data": {
      "text/html": [
       "<div>\n",
       "<style scoped>\n",
       "    .dataframe tbody tr th:only-of-type {\n",
       "        vertical-align: middle;\n",
       "    }\n",
       "\n",
       "    .dataframe tbody tr th {\n",
       "        vertical-align: top;\n",
       "    }\n",
       "\n",
       "    .dataframe thead th {\n",
       "        text-align: right;\n",
       "    }\n",
       "</style>\n",
       "<table border=\"1\" class=\"dataframe\">\n",
       "  <thead>\n",
       "    <tr style=\"text-align: right;\">\n",
       "      <th></th>\n",
       "      <th>Borough</th>\n",
       "      <th>Neighborhood</th>\n",
       "      <th>Latitude</th>\n",
       "      <th>Longitude</th>\n",
       "    </tr>\n",
       "  </thead>\n",
       "  <tbody>\n",
       "    <tr>\n",
       "      <th>0</th>\n",
       "      <td>Bronx</td>\n",
       "      <td>Wakefield</td>\n",
       "      <td>40.894705</td>\n",
       "      <td>-73.847201</td>\n",
       "    </tr>\n",
       "    <tr>\n",
       "      <th>1</th>\n",
       "      <td>Bronx</td>\n",
       "      <td>Co-op City</td>\n",
       "      <td>40.874294</td>\n",
       "      <td>-73.829939</td>\n",
       "    </tr>\n",
       "    <tr>\n",
       "      <th>2</th>\n",
       "      <td>Bronx</td>\n",
       "      <td>Eastchester</td>\n",
       "      <td>40.887556</td>\n",
       "      <td>-73.827806</td>\n",
       "    </tr>\n",
       "    <tr>\n",
       "      <th>3</th>\n",
       "      <td>Bronx</td>\n",
       "      <td>Fieldston</td>\n",
       "      <td>40.895437</td>\n",
       "      <td>-73.905643</td>\n",
       "    </tr>\n",
       "  </tbody>\n",
       "</table>\n",
       "</div>"
      ],
      "text/plain": [
       "  Borough Neighborhood   Latitude  Longitude\n",
       "0   Bronx    Wakefield  40.894705 -73.847201\n",
       "1   Bronx   Co-op City  40.874294 -73.829939\n",
       "2   Bronx  Eastchester  40.887556 -73.827806\n",
       "3   Bronx    Fieldston  40.895437 -73.905643"
      ]
     },
     "execution_count": 19,
     "metadata": {},
     "output_type": "execute_result"
    }
   ],
   "source": [
    "#Filling the neighborhoods frame with the data imported\n",
    "\n",
    "for data in neighborhoods_data:\n",
    "    borough = neighborhood_name = data['properties']['borough'] \n",
    "    neighborhood_name = data['properties']['name']\n",
    "        \n",
    "    neighborhood_latlon = data['geometry']['coordinates']\n",
    "    neighborhood_lat = neighborhood_latlon[1]\n",
    "    neighborhood_lon = neighborhood_latlon[0]\n",
    "    \n",
    "    neighborhoods = neighborhoods.append({'Borough': borough,\n",
    "                                          'Neighborhood': neighborhood_name,\n",
    "                                          'Latitude': neighborhood_lat,\n",
    "                                          'Longitude': neighborhood_lon}, ignore_index=True)\n",
    "    \n",
    "neighborhoods.head(4)"
   ]
  },
  {
   "cell_type": "markdown",
   "metadata": {},
   "source": [
    "## Third Step:\n",
    "-After I got the dataset and cleaned it above, Now i will go through all the Borough and find the Neighborhood with the minimum number of Italian Restaurants:<br/>\n",
    "1-Access foursquare to get the food venues in each neighborhoods <br/>\n",
    "2-Define a function that will : Get NearByFood places in all the neighborhoods in one Borough<br/>\n",
    "3-Define a function that will extract the category of the venue<br/>"
   ]
  },
  {
   "cell_type": "code",
   "execution_count": 26,
   "metadata": {},
   "outputs": [],
   "source": [
    "#ID required to access foursquare API \n",
    "CLIENT_ID = '1TITQDK2R10KCFRR3QVPRYQMHPKLTLYJZBXLJM1RP2IGRUVR' # your Foursquare ID\n",
    "CLIENT_SECRET = 'LYDRUEYKILEJ04K55J5O2N2ZL4T4VV12HYVJPNZD4CMBW2KO' # your Foursquare Secret\n",
    "VERSION = '20180605' # Foursquare API version\n",
    "search_query = 'food'\n",
    "LIMIT=100\n",
    "\n",
    "\n",
    "\n",
    "# function that extracts the category of the venue\n",
    "def get_category_type(row):\n",
    "    try:\n",
    "        categories_list = row['Venue Category']\n",
    "    except:\n",
    "        categories_list = row['venue.categories']\n",
    "        \n",
    "    if len(categories_list) == 0:\n",
    "        return None\n",
    "    else:\n",
    "        return categories_list[0]['name']\n",
    "    \n",
    "#Get NearByFood places in all the neighborhoods in one Borough\n",
    "def getNearbyVenues(names, latitudes, longitudes, radius=500):\n",
    "        \n",
    "    venues_list=[]\n",
    "    for name, lat, lng in zip(names, latitudes, longitudes):\n",
    "        #print(name)\n",
    "            \n",
    "        # create the API request URL\n",
    "        url = 'https://api.foursquare.com/v2/venues/search?client_id={}&client_secret={}&ll={},{}&v={}&query={}&radius={}&limit={}'.format(\n",
    "            CLIENT_ID, \n",
    "            CLIENT_SECRET,\n",
    "            lat,\n",
    "            lng,\n",
    "            VERSION,\n",
    "            search_query,\n",
    "            radius,\n",
    "            LIMIT)\n",
    "            \n",
    "        # make the GET request\n",
    "        results = requests.get(url).json()['response']['venues']\n",
    "\n",
    "         \n",
    "        \n",
    "        # return only relevant information for each nearby venue\n",
    "        venues_list.append([(\n",
    "            name, \n",
    "            lat, \n",
    "            lng, \n",
    "            v['name'], \n",
    "            v['location']['lat'], \n",
    "            v['location']['lng'],  \n",
    "            v['categories']) for v in results])\n",
    "\n",
    "    nearby_venues = pd.DataFrame([item for venue_list in venues_list for item in venue_list])\n",
    "    nearby_venues.columns = ['Neighborhood', \n",
    "                  'Neighborhood Latitude', \n",
    "                  'Neighborhood Longitude', \n",
    "                  'Venue Name', \n",
    "                  'Venue Latitude', \n",
    "                  'Venue Longitude', \n",
    "                  'Venue Category']\n",
    "    \n",
    "    # filter the category for each row\n",
    "    nearby_venues['Venue Category'] = nearby_venues.apply(get_category_type, axis=1)\n",
    "    \n",
    "    return(nearby_venues)\n"
   ]
  },
  {
   "cell_type": "markdown",
   "metadata": {},
   "source": [
    "Now get the list of venues in all neighborhoods<br/>"
   ]
  },
  {
   "cell_type": "code",
   "execution_count": 27,
   "metadata": {},
   "outputs": [],
   "source": [
    "#Get the list of all food venues in all neighborhoods\n",
    "All_venues = getNearbyVenues(names=neighborhoods['Neighborhood'],\n",
    "                                   latitudes=neighborhoods['Latitude'],\n",
    "                                   longitudes=neighborhoods['Longitude']\n",
    "                                  )"
   ]
  },
  {
   "cell_type": "code",
   "execution_count": 28,
   "metadata": {},
   "outputs": [
    {
     "data": {
      "text/html": [
       "<div>\n",
       "<style scoped>\n",
       "    .dataframe tbody tr th:only-of-type {\n",
       "        vertical-align: middle;\n",
       "    }\n",
       "\n",
       "    .dataframe tbody tr th {\n",
       "        vertical-align: top;\n",
       "    }\n",
       "\n",
       "    .dataframe thead th {\n",
       "        text-align: right;\n",
       "    }\n",
       "</style>\n",
       "<table border=\"1\" class=\"dataframe\">\n",
       "  <thead>\n",
       "    <tr style=\"text-align: right;\">\n",
       "      <th></th>\n",
       "      <th>Neighborhood</th>\n",
       "      <th>Neighborhood Latitude</th>\n",
       "      <th>Neighborhood Longitude</th>\n",
       "      <th>Venue Name</th>\n",
       "      <th>Venue Latitude</th>\n",
       "      <th>Venue Longitude</th>\n",
       "      <th>Venue Category</th>\n",
       "    </tr>\n",
       "  </thead>\n",
       "  <tbody>\n",
       "    <tr>\n",
       "      <th>0</th>\n",
       "      <td>Wakefield</td>\n",
       "      <td>40.894705</td>\n",
       "      <td>-73.847201</td>\n",
       "      <td>Baychester Avenue Food Truck</td>\n",
       "      <td>40.892293</td>\n",
       "      <td>-73.843230</td>\n",
       "      <td>Food Truck</td>\n",
       "    </tr>\n",
       "    <tr>\n",
       "      <th>1</th>\n",
       "      <td>Wakefield</td>\n",
       "      <td>40.894705</td>\n",
       "      <td>-73.847201</td>\n",
       "      <td>Taste the Island Bakery &amp; Caribbean Food</td>\n",
       "      <td>40.899265</td>\n",
       "      <td>-73.846916</td>\n",
       "      <td>None</td>\n",
       "    </tr>\n",
       "    <tr>\n",
       "      <th>2</th>\n",
       "      <td>Wakefield</td>\n",
       "      <td>40.894705</td>\n",
       "      <td>-73.847201</td>\n",
       "      <td>Foodtown White Plains Rd</td>\n",
       "      <td>40.890900</td>\n",
       "      <td>-73.851403</td>\n",
       "      <td>Supermarket</td>\n",
       "    </tr>\n",
       "    <tr>\n",
       "      <th>3</th>\n",
       "      <td>Co-op City</td>\n",
       "      <td>40.874294</td>\n",
       "      <td>-73.829939</td>\n",
       "      <td>Food Universe Marketplace</td>\n",
       "      <td>40.876740</td>\n",
       "      <td>-73.828980</td>\n",
       "      <td>Grocery Store</td>\n",
       "    </tr>\n",
       "    <tr>\n",
       "      <th>4</th>\n",
       "      <td>Co-op City</td>\n",
       "      <td>40.874294</td>\n",
       "      <td>-73.829939</td>\n",
       "      <td>Food Universe Marketplace</td>\n",
       "      <td>40.870520</td>\n",
       "      <td>-73.828550</td>\n",
       "      <td>Supermarket</td>\n",
       "    </tr>\n",
       "    <tr>\n",
       "      <th>5</th>\n",
       "      <td>Co-op City</td>\n",
       "      <td>40.874294</td>\n",
       "      <td>-73.829939</td>\n",
       "      <td>Compare Foods</td>\n",
       "      <td>40.870647</td>\n",
       "      <td>-73.828425</td>\n",
       "      <td>Miscellaneous Shop</td>\n",
       "    </tr>\n",
       "  </tbody>\n",
       "</table>\n",
       "</div>"
      ],
      "text/plain": [
       "  Neighborhood  Neighborhood Latitude  Neighborhood Longitude  \\\n",
       "0    Wakefield              40.894705              -73.847201   \n",
       "1    Wakefield              40.894705              -73.847201   \n",
       "2    Wakefield              40.894705              -73.847201   \n",
       "3   Co-op City              40.874294              -73.829939   \n",
       "4   Co-op City              40.874294              -73.829939   \n",
       "5   Co-op City              40.874294              -73.829939   \n",
       "\n",
       "                                 Venue Name  Venue Latitude  Venue Longitude  \\\n",
       "0              Baychester Avenue Food Truck       40.892293       -73.843230   \n",
       "1  Taste the Island Bakery & Caribbean Food       40.899265       -73.846916   \n",
       "2                  Foodtown White Plains Rd       40.890900       -73.851403   \n",
       "3                 Food Universe Marketplace       40.876740       -73.828980   \n",
       "4                 Food Universe Marketplace       40.870520       -73.828550   \n",
       "5                             Compare Foods       40.870647       -73.828425   \n",
       "\n",
       "       Venue Category  \n",
       "0          Food Truck  \n",
       "1                None  \n",
       "2         Supermarket  \n",
       "3       Grocery Store  \n",
       "4         Supermarket  \n",
       "5  Miscellaneous Shop  "
      ]
     },
     "execution_count": 28,
     "metadata": {},
     "output_type": "execute_result"
    }
   ],
   "source": [
    "All_venues.head(6)"
   ]
  },
  {
   "cell_type": "markdown",
   "metadata": {},
   "source": [
    "Define the function that will return the venues which have zero italian restaurants<br/>"
   ]
  },
  {
   "cell_type": "code",
   "execution_count": 29,
   "metadata": {},
   "outputs": [],
   "source": [
    "#Define the function that will return the venues which have zero italian restaurants\n",
    "def get_neighborhoods_zero_italian_restaurants(venues):\n",
    "    # one hot encoding\n",
    "    venues_onehot = pd.get_dummies(venues[['Venue Category']], prefix=\"\", prefix_sep=\"\")\n",
    "\n",
    "    # add Neighborhood Latitude back to dataframe\n",
    "    venues_onehot['Neighborhood Latitude'] = venues['Neighborhood Latitude'] \n",
    "    \n",
    "    # add Neighborhood Longitude back to dataframe\n",
    "    venues_onehot['Neighborhood Longitude'] = venues['Neighborhood Longitude']     \n",
    "    \n",
    "    # add neighborhood column back to dataframe\n",
    "    venues_onehot['Neighborhood'] = venues['Neighborhood'] \n",
    "    \n",
    "    # move neighborhood column to the first column\n",
    "    fixed_columns = [venues_onehot.columns[-1]] + list(venues_onehot.columns[:-1])\n",
    "    venues_onehot = venues_onehot[fixed_columns]\n",
    "\n",
    "    #Group By Neighborhood\n",
    "    venues_onehot=venues_onehot.groupby(['Neighborhood', 'Neighborhood Latitude', 'Neighborhood Longitude']).sum()\n",
    "    venues_onehot=venues_onehot.reset_index(drop = False)\n",
    "    \n",
    "    #Create a new Column for the total sum of Venues \n",
    "    col_list= list(venues_onehot)\n",
    "    \n",
    "    col_list.remove('Neighborhood')\n",
    "    col_list.remove('Neighborhood Latitude')\n",
    "    col_list.remove('Neighborhood Longitude')\n",
    "    venues_onehot[\"TotalSum\"]=venues_onehot[col_list].sum(axis=1)\n",
    "\n",
    "    return (venues_onehot)\n",
    "\n"
   ]
  },
  {
   "cell_type": "markdown",
   "metadata": {},
   "source": [
    "## Last Step:\n",
    "-Get a list of all the neighborhoods who have zero italian restaurants:<br/>\n"
   ]
  },
  {
   "cell_type": "code",
   "execution_count": 31,
   "metadata": {},
   "outputs": [
    {
     "data": {
      "text/html": [
       "<div>\n",
       "<style scoped>\n",
       "    .dataframe tbody tr th:only-of-type {\n",
       "        vertical-align: middle;\n",
       "    }\n",
       "\n",
       "    .dataframe tbody tr th {\n",
       "        vertical-align: top;\n",
       "    }\n",
       "\n",
       "    .dataframe thead th {\n",
       "        text-align: right;\n",
       "    }\n",
       "</style>\n",
       "<table border=\"1\" class=\"dataframe\">\n",
       "  <thead>\n",
       "    <tr style=\"text-align: right;\">\n",
       "      <th></th>\n",
       "      <th>Neighborhood</th>\n",
       "      <th>Neighborhood Latitude</th>\n",
       "      <th>Neighborhood Longitude</th>\n",
       "      <th>TotalSum</th>\n",
       "    </tr>\n",
       "  </thead>\n",
       "  <tbody>\n",
       "    <tr>\n",
       "      <th>2</th>\n",
       "      <td>Arrochar</td>\n",
       "      <td>40.596313</td>\n",
       "      <td>-74.067124</td>\n",
       "      <td>4</td>\n",
       "    </tr>\n",
       "    <tr>\n",
       "      <th>3</th>\n",
       "      <td>Arverne</td>\n",
       "      <td>40.589144</td>\n",
       "      <td>-73.791992</td>\n",
       "      <td>2</td>\n",
       "    </tr>\n",
       "    <tr>\n",
       "      <th>5</th>\n",
       "      <td>Astoria Heights</td>\n",
       "      <td>40.770317</td>\n",
       "      <td>-73.894680</td>\n",
       "      <td>4</td>\n",
       "    </tr>\n",
       "    <tr>\n",
       "      <th>10</th>\n",
       "      <td>Bay Terrace</td>\n",
       "      <td>40.553988</td>\n",
       "      <td>-74.139166</td>\n",
       "      <td>2</td>\n",
       "    </tr>\n",
       "    <tr>\n",
       "      <th>11</th>\n",
       "      <td>Bay Terrace</td>\n",
       "      <td>40.782843</td>\n",
       "      <td>-73.776802</td>\n",
       "      <td>2</td>\n",
       "    </tr>\n",
       "  </tbody>\n",
       "</table>\n",
       "</div>"
      ],
      "text/plain": [
       "       Neighborhood  Neighborhood Latitude  Neighborhood Longitude  TotalSum\n",
       "2          Arrochar              40.596313              -74.067124         4\n",
       "3           Arverne              40.589144              -73.791992         2\n",
       "5   Astoria Heights              40.770317              -73.894680         4\n",
       "10      Bay Terrace              40.553988              -74.139166         2\n",
       "11      Bay Terrace              40.782843              -73.776802         2"
      ]
     },
     "execution_count": 31,
     "metadata": {},
     "output_type": "execute_result"
    }
   ],
   "source": [
    "#Get a list of all the neighborhoods who have 0 italian restaurnts \n",
    "neighborhood_zero_italian_restaurant=get_neighborhoods_zero_italian_restaurants(All_venues).reset_index(drop = True)\n",
    "\n",
    "#Only selecting necessary columns\n",
    "neighborhood_zero_italian_restaurant=neighborhood_zero_italian_restaurant[['Neighborhood', 'Neighborhood Latitude', 'Neighborhood Longitude','TotalSum']] \n",
    "\n",
    "numberOFRequiredRestaurants=5\n",
    "#Selecting Neighborhoods with number of restaurants less than 5\n",
    "neighborhood_zero_italian_restaurant=neighborhood_zero_italian_restaurant.loc[(neighborhood_zero_italian_restaurant['TotalSum'] <numberOFRequiredRestaurants)]\n",
    "\n",
    "neighborhood_zero_italian_restaurant.head(5)"
   ]
  },
  {
   "cell_type": "markdown",
   "metadata": {},
   "source": [
    "## Visualisation:\n",
    "-So now I have a list of all the Neighborhoods with zero italian restaurants, i will create a folium map for better demonstration.<br/>"
   ]
  },
  {
   "cell_type": "code",
   "execution_count": 32,
   "metadata": {},
   "outputs": [
    {
     "name": "stdout",
     "output_type": "stream",
     "text": [
      "The geograpical coordinate of New York City are 40.7308619, -73.9871558.\n"
     ]
    }
   ],
   "source": [
    "#Address of New York City\n",
    "address = 'New York City, NY'\n",
    "\n",
    "geolocator = Nominatim(user_agent=\"ny_explorer\")\n",
    "location= geolocator.geocode(address)\n",
    "latitude_NewYork = location.latitude\n",
    "longitude_NewYork = location.longitude\n",
    "print('The geograpical coordinate of New York City are {}, {}.'.format(latitude_NewYork, longitude_NewYork))"
   ]
  },
  {
   "cell_type": "code",
   "execution_count": 33,
   "metadata": {},
   "outputs": [
    {
     "data": {
      "text/html": [
       "<div style=\"width:100%;\"><div style=\"position:relative;width:100%;height:0;padding-bottom:60%;\"><iframe src=\"data:text/html;charset=utf-8;base64,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\" style=\"position:absolute;width:100%;height:100%;left:0;top:0;border:none !important;\" allowfullscreen webkitallowfullscreen mozallowfullscreen></iframe></div></div>"
      ],
      "text/plain": [
       "<folium.folium.Map at 0x7fcf80a64908>"
      ]
     },
     "execution_count": 33,
     "metadata": {},
     "output_type": "execute_result"
    }
   ],
   "source": [
    "# create map of New York using latitude and longitude of all the neighborhoods who have Zero Italian Restaurant\n",
    "map_newyork = folium.Map(location=[latitude_NewYork, longitude_NewYork], zoom_start=10)\n",
    "\n",
    "# add markers to map\n",
    "for lat, lng, neighborhood in zip(neighborhood_zero_italian_restaurant['Neighborhood Latitude'], neighborhood_zero_italian_restaurant['Neighborhood Longitude'], neighborhood_zero_italian_restaurant['Neighborhood']):\n",
    "    label = '{}, {}'.format(neighborhood, borough)\n",
    "    label = folium.Popup(label, parse_html=True)\n",
    "    folium.CircleMarker(\n",
    "        [lat, lng],\n",
    "        radius=5,\n",
    "        popup=label,\n",
    "        color='blue',\n",
    "        fill=True,\n",
    "        fill_color='#3186cc',\n",
    "        fill_opacity=0.7,\n",
    "        parse_html=False).add_to(map_newyork)  \n",
    "    \n",
    "map_newyork"
   ]
  },
  {
   "cell_type": "code",
   "execution_count": 35,
   "metadata": {},
   "outputs": [
    {
     "data": {
      "text/plain": [
       "(81, 4)"
      ]
     },
     "execution_count": 35,
     "metadata": {},
     "output_type": "execute_result"
    }
   ],
   "source": [
    "#Number of neighborhoods with zero italian restaurants in New York\n",
    "neighborhood_zero_italian_restaurant.shape"
   ]
  },
  {
   "cell_type": "markdown",
   "metadata": {},
   "source": [
    "## Conclusion:\n",
    "-There are 239 neighborhoods in New York with Zero italian restaurants .<br/>\n",
    "-The investor could see those neighborhoods on the map and choose one of them for the location of his restaurant<br/>\n"
   ]
  },
  {
   "cell_type": "markdown",
   "metadata": {},
   "source": []
  },
  {
   "cell_type": "code",
   "execution_count": 8,
   "metadata": {},
   "outputs": [],
   "source": []
  },
  {
   "cell_type": "code",
   "execution_count": null,
   "metadata": {},
   "outputs": [],
   "source": []
  },
  {
   "cell_type": "code",
   "execution_count": null,
   "metadata": {},
   "outputs": [],
   "source": []
  },
  {
   "cell_type": "code",
   "execution_count": 5,
   "metadata": {},
   "outputs": [],
   "source": []
  },
  {
   "cell_type": "code",
   "execution_count": null,
   "metadata": {},
   "outputs": [],
   "source": []
  },
  {
   "cell_type": "code",
   "execution_count": null,
   "metadata": {},
   "outputs": [],
   "source": []
  },
  {
   "cell_type": "code",
   "execution_count": null,
   "metadata": {},
   "outputs": [],
   "source": []
  },
  {
   "cell_type": "code",
   "execution_count": null,
   "metadata": {},
   "outputs": [],
   "source": []
  },
  {
   "cell_type": "code",
   "execution_count": null,
   "metadata": {},
   "outputs": [],
   "source": []
  },
  {
   "cell_type": "markdown",
   "metadata": {},
   "source": []
  },
  {
   "cell_type": "code",
   "execution_count": null,
   "metadata": {},
   "outputs": [],
   "source": []
  }
 ],
 "metadata": {
  "kernelspec": {
   "display_name": "Python 3",
   "language": "python",
   "name": "python3"
  },
  "language_info": {
   "codemirror_mode": {
    "name": "ipython",
    "version": 3
   },
   "file_extension": ".py",
   "mimetype": "text/x-python",
   "name": "python",
   "nbconvert_exporter": "python",
   "pygments_lexer": "ipython3",
   "version": "3.6.8"
  }
 },
 "nbformat": 4,
 "nbformat_minor": 2
}
